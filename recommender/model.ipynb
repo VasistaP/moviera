{
 "cells": [
  {
   "cell_type": "code",
   "execution_count": 1,
   "id": "3d6f1713-fef2-485c-a2ab-0e6976bb1e31",
   "metadata": {},
   "outputs": [],
   "source": [
    "import pandas as pd\n",
    "import os"
   ]
  },
  {
   "cell_type": "code",
   "execution_count": 2,
   "id": "ef9e0031-6081-4c30-bf5c-24e071eaa51a",
   "metadata": {},
   "outputs": [],
   "source": [
    "data_directory = os.path.join('..', 'data')\n",
    "movies = pd.read_csv(os.path.join(data_directory, 'tmdb_5000_movies.csv'))\n",
    "credits = pd.read_csv(os.path.join(data_directory, 'tmdb_5000_credits.csv'))"
   ]
  },
  {
   "cell_type": "code",
   "execution_count": 3,
   "id": "0a379917-a3a2-4c63-8190-e74fa55fd375",
   "metadata": {},
   "outputs": [],
   "source": [
    "movies = movies.merge(credits, on='title')"
   ]
  },
  {
   "cell_type": "code",
   "execution_count": 4,
   "id": "071bf5b8-8a76-4d5b-910f-7eeb03267562",
   "metadata": {},
   "outputs": [],
   "source": [
    "movies = movies[['movie_id', 'title', 'overview',\n",
    "                 'genres', 'keywords', 'cast', 'crew']]"
   ]
  },
  {
   "cell_type": "code",
   "execution_count": 5,
   "id": "6e242154-7119-4352-ac94-5e652c64da89",
   "metadata": {},
   "outputs": [],
   "source": [
    "movies.dropna(inplace=True)"
   ]
  },
  {
   "cell_type": "code",
   "execution_count": 6,
   "id": "29bad920-77a9-4ee9-8118-3e11255ae9ee",
   "metadata": {},
   "outputs": [],
   "source": [
    "import ast"
   ]
  },
  {
   "cell_type": "code",
   "execution_count": 7,
   "id": "7e22b9b7-2b90-49a4-90a4-44f8436b9a6a",
   "metadata": {},
   "outputs": [],
   "source": [
    "def convert(obj):\n",
    "    L = []\n",
    "    for i in ast.literal_eval(obj):\n",
    "        L.append(i['name'])\n",
    "    return L"
   ]
  },
  {
   "cell_type": "code",
   "execution_count": 8,
   "id": "ff7a62a6-dba7-4d45-ba5c-45a7b70db659",
   "metadata": {},
   "outputs": [],
   "source": [
    "movies['genres'] = movies['genres'].apply(convert)"
   ]
  },
  {
   "cell_type": "code",
   "execution_count": 9,
   "id": "a6510c5d-9ac5-42b3-9934-1ec79db2cec6",
   "metadata": {},
   "outputs": [],
   "source": [
    "movies['keywords'] = movies['keywords'].apply(convert)"
   ]
  },
  {
   "cell_type": "code",
   "execution_count": 10,
   "id": "833c16e0-ce0d-41dd-87eb-0274556336e4",
   "metadata": {},
   "outputs": [],
   "source": [
    "def convert2(obj):\n",
    "    L = []\n",
    "    cnt = 0\n",
    "    for i in ast.literal_eval(obj):\n",
    "        if cnt != 3:\n",
    "            L.append(i['name'])\n",
    "            cnt += 1\n",
    "        else:\n",
    "            break\n",
    "    return L"
   ]
  },
  {
   "cell_type": "code",
   "execution_count": 11,
   "id": "84cd0baf-2e97-406b-8a5d-2c57ad06508e",
   "metadata": {},
   "outputs": [],
   "source": [
    "movies['cast'] = movies['cast'].apply(convert2)"
   ]
  },
  {
   "cell_type": "code",
   "execution_count": 12,
   "id": "5ed1a5aa-cfa5-4335-9b95-b9cbf7b798a2",
   "metadata": {},
   "outputs": [],
   "source": [
    "def dirr(obj):\n",
    "    L = []\n",
    "    for i in ast.literal_eval(obj):\n",
    "        if i['job'] == 'Director':\n",
    "            L.append(i['name'])\n",
    "            break\n",
    "    return L"
   ]
  },
  {
   "cell_type": "code",
   "execution_count": 13,
   "id": "31da4537-e5cd-4049-a37b-c35da42405f8",
   "metadata": {},
   "outputs": [],
   "source": [
    "movies['crew'] = movies['crew'].apply(dirr)"
   ]
  },
  {
   "cell_type": "code",
   "execution_count": 14,
   "id": "2335c13c-1927-49da-9583-fe44bd1cc669",
   "metadata": {},
   "outputs": [],
   "source": [
    "movies['overview'] = movies['overview'].apply(lambda x:x.split())"
   ]
  },
  {
   "cell_type": "code",
   "execution_count": 15,
   "id": "3c03af97-e252-48a0-9dd1-9944113e6dc6",
   "metadata": {},
   "outputs": [],
   "source": [
    "movies['genres'].apply(\n",
    "    lambda x: [i.replace(\" \",  \"\") for i in x])\n",
    "movies['keywords'] = movies['keywords'].apply(\n",
    "    lambda x: [i.replace(\" \",  \"\") for i in x])\n",
    "movies['cast'] = movies['cast'].apply(\n",
    "    lambda x: [i.replace(\" \",  \"\") for i in x])\n",
    "movies['crew'] = movies['crew'].apply(\n",
    "    lambda x: [i.replace(\" \",  \"\") for i in x])"
   ]
  },
  {
   "cell_type": "code",
   "execution_count": 16,
   "id": "43b3aa70-7c36-431c-8e25-48688c4b00c7",
   "metadata": {},
   "outputs": [],
   "source": [
    "movies['tags'] = (movies['overview']\n",
    "                  + movies['genres']\n",
    "                  + movies['keywords']\n",
    "                  + movies['cast']\n",
    "                  + movies['crew'])"
   ]
  },
  {
   "cell_type": "code",
   "execution_count": 17,
   "id": "e837d192-bacb-4799-b6eb-69a0a3424a73",
   "metadata": {},
   "outputs": [],
   "source": [
    "new_df = movies[['movie_id' , 'title', 'tags']]"
   ]
  },
  {
   "cell_type": "code",
   "execution_count": 18,
   "id": "64953741-3b09-416e-8e17-4ed9345d5847",
   "metadata": {},
   "outputs": [
    {
     "name": "stderr",
     "output_type": "stream",
     "text": [
      "C:\\Users\\tarun\\AppData\\Local\\Temp\\ipykernel_19168\\3089450492.py:1: SettingWithCopyWarning: \n",
      "A value is trying to be set on a copy of a slice from a DataFrame.\n",
      "Try using .loc[row_indexer,col_indexer] = value instead\n",
      "\n",
      "See the caveats in the documentation: https://pandas.pydata.org/pandas-docs/stable/user_guide/indexing.html#returning-a-view-versus-a-copy\n",
      "  new_df['tags'] = new_df['tags'].apply(lambda x:\" \".join(x))\n"
     ]
    }
   ],
   "source": [
    "new_df['tags'] = new_df['tags'].apply(lambda x:\" \".join(x))"
   ]
  },
  {
   "cell_type": "code",
   "execution_count": 19,
   "id": "ab2abbb1-f34f-4e70-8553-2e1ae4b8c345",
   "metadata": {},
   "outputs": [
    {
     "name": "stderr",
     "output_type": "stream",
     "text": [
      "C:\\Users\\tarun\\AppData\\Local\\Temp\\ipykernel_19168\\3214958533.py:1: SettingWithCopyWarning: \n",
      "A value is trying to be set on a copy of a slice from a DataFrame.\n",
      "Try using .loc[row_indexer,col_indexer] = value instead\n",
      "\n",
      "See the caveats in the documentation: https://pandas.pydata.org/pandas-docs/stable/user_guide/indexing.html#returning-a-view-versus-a-copy\n",
      "  new_df['tags'] = new_df['tags'].apply(lambda x:x.lower())\n"
     ]
    }
   ],
   "source": [
    "new_df['tags'] = new_df['tags'].apply(lambda x:x.lower())"
   ]
  },
  {
   "cell_type": "code",
   "execution_count": 20,
   "id": "1bce0c6c-0ace-40cb-b3e0-69871bd3d824",
   "metadata": {},
   "outputs": [],
   "source": [
    "from sklearn.feature_extraction.text import CountVectorizer\n",
    "cv = CountVectorizer(max_features=5000,stop_words='english')"
   ]
  },
  {
   "cell_type": "code",
   "execution_count": 21,
   "id": "b6924cd6-51db-425c-a58f-08831411455f",
   "metadata": {},
   "outputs": [],
   "source": [
    "vector = cv.fit_transform(new_df['tags']).toarray()"
   ]
  },
  {
   "cell_type": "code",
   "execution_count": 22,
   "id": "6b412fd2-2d3d-4a5b-a901-e2dacea0b42e",
   "metadata": {},
   "outputs": [],
   "source": [
    "from nltk.stem.porter import PorterStemmer\n",
    "ps = PorterStemmer()"
   ]
  },
  {
   "cell_type": "code",
   "execution_count": 23,
   "id": "2aa74ad5-670e-48bd-9e13-af7a0531f05c",
   "metadata": {},
   "outputs": [],
   "source": [
    "def stem(text):\n",
    "    y  = []\n",
    "    for i in text.split():\n",
    "        y.append(ps.stem(i))\n",
    "    return \" \".join(y)"
   ]
  },
  {
   "cell_type": "code",
   "execution_count": 24,
   "id": "f0b1c6d4-57a3-4364-9441-bb63435010a0",
   "metadata": {},
   "outputs": [
    {
     "name": "stderr",
     "output_type": "stream",
     "text": [
      "C:\\Users\\tarun\\AppData\\Local\\Temp\\ipykernel_19168\\3213734980.py:1: SettingWithCopyWarning: \n",
      "A value is trying to be set on a copy of a slice from a DataFrame.\n",
      "Try using .loc[row_indexer,col_indexer] = value instead\n",
      "\n",
      "See the caveats in the documentation: https://pandas.pydata.org/pandas-docs/stable/user_guide/indexing.html#returning-a-view-versus-a-copy\n",
      "  new_df['tags'] = new_df['tags'].apply(stem)\n"
     ]
    }
   ],
   "source": [
    "new_df['tags'] = new_df['tags'].apply(stem)"
   ]
  },
  {
   "cell_type": "code",
   "execution_count": 25,
   "id": "2e34e594-3d66-4b2c-a43e-2fadb274cb22",
   "metadata": {},
   "outputs": [],
   "source": [
    "from sklearn.metrics.pairwise import cosine_similarity"
   ]
  },
  {
   "cell_type": "code",
   "execution_count": 26,
   "id": "41627167-6a69-4cfb-bc9a-0375fc3611e5",
   "metadata": {},
   "outputs": [],
   "source": [
    "sim = cosine_similarity(vector)"
   ]
  },
  {
   "cell_type": "code",
   "execution_count": 27,
   "id": "46bc8b1f-38f6-46d5-8258-348fcdf8492a",
   "metadata": {},
   "outputs": [],
   "source": [
    "def rec(movie):\n",
    "    movie_index = new_df[new_df['title'] == movie].index[0]\n",
    "    distances = sim[movie_index]\n",
    "    movies_list = sorted(list(enumerate(distances)), reverse=True,\n",
    "                         key=lambda x: x[1])[1:6]\n",
    "    for i in movies_list:\n",
    "        print(new_df.iloc[i[0]].title)"
   ]
  },
  {
   "cell_type": "code",
   "execution_count": 28,
   "id": "7e3ae075-f1bd-4445-b00e-b5e18735a3f6",
   "metadata": {},
   "outputs": [
    {
     "name": "stdout",
     "output_type": "stream",
     "text": [
      "The Martian\n",
      "Space Pirate Captain Harlock\n",
      "Silent Running\n",
      "Gattaca\n",
      "Lost in Space\n"
     ]
    }
   ],
   "source": [
    "rec('Interstellar')"
   ]
  },
  {
   "cell_type": "code",
   "execution_count": 29,
   "id": "7fcc01ea-3af2-4e5f-a2ae-9337deb9569f",
   "metadata": {},
   "outputs": [],
   "source": [
    "import pickle"
   ]
  },
  {
   "cell_type": "code",
   "execution_count": 30,
   "id": "d395b79e-b6ae-4080-bbc2-937249a410f4",
   "metadata": {},
   "outputs": [],
   "source": [
    "pickle.dump(new_df, open(os.path.join(data_directory, 'movies.pkl') , \n",
    "                         'wb'))"
   ]
  },
  {
   "cell_type": "code",
   "execution_count": 31,
   "id": "4589fc17-7330-4b14-a857-04f5bd52a463",
   "metadata": {},
   "outputs": [],
   "source": [
    "pickle.dump(sim, open(os.path.join(data_directory, 'sim.pkl'), 'wb'))"
   ]
  },
  {
   "cell_type": "code",
   "execution_count": 32,
   "id": "a8854949-c446-4d75-9509-e336d1458dda",
   "metadata": {},
   "outputs": [],
   "source": [
    "pickle.dump(new_df.to_dict(),\n",
    "            open(os.path.join(data_directory, 'movie_dict.pkl'), 'wb'))"
   ]
  },
  {
   "cell_type": "code",
   "execution_count": 33,
   "id": "316e451c-6b88-4d02-8066-c6ebc5685f86",
   "metadata": {},
   "outputs": [],
   "source": [
    "import shutil"
   ]
  },
  {
   "cell_type": "code",
   "execution_count": 34,
   "id": "0c8c02d4",
   "metadata": {},
   "outputs": [],
   "source": [
    "shutil.make_archive(data_directory, 'zip', data_directory)\n",
    "shutil.rmtree(data_directory)"
   ]
  }
 ],
 "metadata": {
  "kernelspec": {
   "display_name": "Python 3.10.11 64-bit",
   "language": "python",
   "name": "python3"
  },
  "language_info": {
   "codemirror_mode": {
    "name": "ipython",
    "version": 3
   },
   "file_extension": ".py",
   "mimetype": "text/x-python",
   "name": "python",
   "nbconvert_exporter": "python",
   "pygments_lexer": "ipython3",
   "version": "3.12.1"
  },
  "vscode": {
   "interpreter": {
    "hash": "bd385fe162c5ca0c84973b7dd5c518456272446b2b64e67c2a69f949ca7a1754"
   }
  }
 },
 "nbformat": 4,
 "nbformat_minor": 5
}
